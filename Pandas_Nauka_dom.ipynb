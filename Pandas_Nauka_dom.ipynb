{
 "cells": [
  {
   "cell_type": "code",
   "execution_count": 1,
   "metadata": {
    "collapsed": true
   },
   "outputs": [],
   "source": [
    "import pandas as pd"
   ]
  },
  {
   "cell_type": "code",
   "execution_count": 2,
   "metadata": {
    "collapsed": true
   },
   "outputs": [],
   "source": [
    "my_serires = pd.Series([1,2,3,4,5,7,9,10])"
   ]
  },
  {
   "cell_type": "code",
   "execution_count": 3,
   "metadata": {
    "collapsed": false
   },
   "outputs": [
    {
     "data": {
      "text/plain": [
       "0     1\n",
       "1     2\n",
       "2     3\n",
       "3     4\n",
       "4     5\n",
       "5     7\n",
       "6     9\n",
       "7    10\n",
       "dtype: int64"
      ]
     },
     "execution_count": 3,
     "metadata": {},
     "output_type": "execute_result"
    }
   ],
   "source": [
    "my_serires"
   ]
  },
  {
   "cell_type": "code",
   "execution_count": 4,
   "metadata": {
    "collapsed": false
   },
   "outputs": [
    {
     "data": {
      "text/plain": [
       "array([ 1,  2,  3,  4,  5,  7,  9, 10])"
      ]
     },
     "execution_count": 4,
     "metadata": {},
     "output_type": "execute_result"
    }
   ],
   "source": [
    "my_serires.values"
   ]
  },
  {
   "cell_type": "code",
   "execution_count": 5,
   "metadata": {
    "collapsed": false
   },
   "outputs": [
    {
     "data": {
      "text/plain": [
       "RangeIndex(start=0, stop=8, step=1)"
      ]
     },
     "execution_count": 5,
     "metadata": {},
     "output_type": "execute_result"
    }
   ],
   "source": [
    "my_serires.index"
   ]
  },
  {
   "cell_type": "code",
   "execution_count": 6,
   "metadata": {
    "collapsed": false
   },
   "outputs": [
    {
     "data": {
      "text/plain": [
       "5"
      ]
     },
     "execution_count": 6,
     "metadata": {},
     "output_type": "execute_result"
    }
   ],
   "source": [
    "\n",
    "\n",
    "\n",
    "my_serires[4]"
   ]
  },
  {
   "cell_type": "code",
   "execution_count": 7,
   "metadata": {
    "collapsed": true
   },
   "outputs": [],
   "source": [
    "my_serires2 = pd.Series([9,10,11,12,13], index=['a','b','c','d','e'])"
   ]
  },
  {
   "cell_type": "code",
   "execution_count": 8,
   "metadata": {
    "collapsed": false
   },
   "outputs": [
    {
     "data": {
      "text/plain": [
       "a     9\n",
       "b    10\n",
       "c    11\n",
       "d    12\n",
       "e    13\n",
       "dtype: int64"
      ]
     },
     "execution_count": 8,
     "metadata": {},
     "output_type": "execute_result"
    }
   ],
   "source": [
    "my_serires2"
   ]
  },
  {
   "cell_type": "code",
   "execution_count": 9,
   "metadata": {
    "collapsed": false
   },
   "outputs": [
    {
     "data": {
      "text/plain": [
       "11"
      ]
     },
     "execution_count": 9,
     "metadata": {},
     "output_type": "execute_result"
    }
   ],
   "source": [
    "my_serires2['c']"
   ]
  },
  {
   "cell_type": "code",
   "execution_count": 10,
   "metadata": {
    "collapsed": false
   },
   "outputs": [
    {
     "data": {
      "text/plain": [
       "c    11\n",
       "d    12\n",
       "dtype: int64"
      ]
     },
     "execution_count": 10,
     "metadata": {},
     "output_type": "execute_result"
    }
   ],
   "source": [
    "my_serires2[['c','d']]"
   ]
  },
  {
   "cell_type": "code",
   "execution_count": 11,
   "metadata": {
    "collapsed": true
   },
   "outputs": [],
   "source": [
    "my_serires2[['c','d']] = 0"
   ]
  },
  {
   "cell_type": "code",
   "execution_count": 12,
   "metadata": {
    "collapsed": false
   },
   "outputs": [
    {
     "data": {
      "text/plain": [
       "a     9\n",
       "b    10\n",
       "c     0\n",
       "d     0\n",
       "e    13\n",
       "dtype: int64"
      ]
     },
     "execution_count": 12,
     "metadata": {},
     "output_type": "execute_result"
    }
   ],
   "source": [
    "my_serires2"
   ]
  },
  {
   "cell_type": "code",
   "execution_count": 13,
   "metadata": {
    "collapsed": false
   },
   "outputs": [
    {
     "data": {
      "text/plain": [
       "a     9\n",
       "b    10\n",
       "e    13\n",
       "dtype: int64"
      ]
     },
     "execution_count": 13,
     "metadata": {},
     "output_type": "execute_result"
    }
   ],
   "source": [
    "my_serires2[my_serires2>0]"
   ]
  },
  {
   "cell_type": "code",
   "execution_count": 14,
   "metadata": {
    "collapsed": false
   },
   "outputs": [
    {
     "data": {
      "text/plain": [
       "a    18\n",
       "b    20\n",
       "e    26\n",
       "dtype: int64"
      ]
     },
     "execution_count": 14,
     "metadata": {},
     "output_type": "execute_result"
    }
   ],
   "source": [
    "my_serires2[my_serires2>0]*2"
   ]
  },
  {
   "cell_type": "code",
   "execution_count": 15,
   "metadata": {
    "collapsed": false
   },
   "outputs": [
    {
     "data": {
      "text/plain": [
       "a     9\n",
       "b    10\n",
       "c     0\n",
       "d     0\n",
       "e    13\n",
       "dtype: int64"
      ]
     },
     "execution_count": 15,
     "metadata": {},
     "output_type": "execute_result"
    }
   ],
   "source": [
    "my_serires2"
   ]
  },
  {
   "cell_type": "code",
   "execution_count": 16,
   "metadata": {
    "collapsed": true
   },
   "outputs": [],
   "source": [
    "my_serires3= pd.Series({'a':2, 'b':3, 'c':8, 'd':13, 'e':18})"
   ]
  },
  {
   "cell_type": "code",
   "execution_count": 17,
   "metadata": {
    "collapsed": false
   },
   "outputs": [
    {
     "data": {
      "text/plain": [
       "True"
      ]
     },
     "execution_count": 17,
     "metadata": {},
     "output_type": "execute_result"
    }
   ],
   "source": [
    "my_serires3\n",
    "\n",
    "'a' in my_serires3"
   ]
  },
  {
   "cell_type": "code",
   "execution_count": 18,
   "metadata": {
    "collapsed": false
   },
   "outputs": [
    {
     "data": {
      "text/plain": [
       "False"
      ]
     },
     "execution_count": 18,
     "metadata": {},
     "output_type": "execute_result"
    }
   ],
   "source": [
    "2 in my_serires3"
   ]
  },
  {
   "cell_type": "code",
   "execution_count": 19,
   "metadata": {
    "collapsed": false
   },
   "outputs": [
    {
     "data": {
      "text/plain": [
       "letters\n",
       "a     2\n",
       "b     3\n",
       "c     8\n",
       "d    13\n",
       "e    18\n",
       "Name: numbers, dtype: int64"
      ]
     },
     "execution_count": 19,
     "metadata": {},
     "output_type": "execute_result"
    }
   ],
   "source": [
    "my_serires3.name= 'numbers'\n",
    "my_serires3.index.name = 'letters'\n",
    "my_serires3"
   ]
  },
  {
   "cell_type": "code",
   "execution_count": 20,
   "metadata": {
    "collapsed": true
   },
   "outputs": [],
   "source": [
    "my_serires3.index = ['A','B','C','D','E']"
   ]
  },
  {
   "cell_type": "code",
   "execution_count": 21,
   "metadata": {
    "collapsed": false
   },
   "outputs": [
    {
     "data": {
      "text/plain": [
       "A     2\n",
       "B     3\n",
       "C     8\n",
       "D    13\n",
       "E    18\n",
       "Name: numbers, dtype: int64"
      ]
     },
     "execution_count": 21,
     "metadata": {},
     "output_type": "execute_result"
    }
   ],
   "source": [
    "my_serires3"
   ]
  },
  {
   "cell_type": "code",
   "execution_count": 22,
   "metadata": {
    "collapsed": true
   },
   "outputs": [],
   "source": [
    "df = pd.DataFrame({'Country':['Kazachstan', 'Polska', 'Rosja'],\n",
    "                   'Populacja':[40.2, 38.5,130.7],\n",
    "                   'Powierzchnia':[2724038, 380000, 17000000]\n",
    "})"
   ]
  },
  {
   "cell_type": "code",
   "execution_count": 23,
   "metadata": {
    "collapsed": false
   },
   "outputs": [
    {
     "data": {
      "text/html": [
       "<div>\n",
       "<table border=\"1\" class=\"dataframe\">\n",
       "  <thead>\n",
       "    <tr style=\"text-align: right;\">\n",
       "      <th></th>\n",
       "      <th>Country</th>\n",
       "      <th>Populacja</th>\n",
       "      <th>Powierzchnia</th>\n",
       "    </tr>\n",
       "  </thead>\n",
       "  <tbody>\n",
       "    <tr>\n",
       "      <th>0</th>\n",
       "      <td>Kazachstan</td>\n",
       "      <td>40.2</td>\n",
       "      <td>2724038</td>\n",
       "    </tr>\n",
       "    <tr>\n",
       "      <th>1</th>\n",
       "      <td>Polska</td>\n",
       "      <td>38.5</td>\n",
       "      <td>380000</td>\n",
       "    </tr>\n",
       "    <tr>\n",
       "      <th>2</th>\n",
       "      <td>Rosja</td>\n",
       "      <td>130.7</td>\n",
       "      <td>17000000</td>\n",
       "    </tr>\n",
       "  </tbody>\n",
       "</table>\n",
       "</div>"
      ],
      "text/plain": [
       "      Country  Populacja  Powierzchnia\n",
       "0  Kazachstan       40.2       2724038\n",
       "1      Polska       38.5        380000\n",
       "2       Rosja      130.7      17000000"
      ]
     },
     "execution_count": 23,
     "metadata": {},
     "output_type": "execute_result"
    }
   ],
   "source": [
    "df"
   ]
  },
  {
   "cell_type": "code",
   "execution_count": 24,
   "metadata": {
    "collapsed": false
   },
   "outputs": [
    {
     "data": {
      "text/plain": [
       "pandas.core.series.Series"
      ]
     },
     "execution_count": 24,
     "metadata": {},
     "output_type": "execute_result"
    }
   ],
   "source": [
    "type(df['Country'])"
   ]
  },
  {
   "cell_type": "code",
   "execution_count": 25,
   "metadata": {
    "collapsed": false
   },
   "outputs": [
    {
     "data": {
      "text/plain": [
       "0    Kazachstan\n",
       "1        Polska\n",
       "2         Rosja\n",
       "Name: Country, dtype: object"
      ]
     },
     "execution_count": 25,
     "metadata": {},
     "output_type": "execute_result"
    }
   ],
   "source": [
    "df['Country']"
   ]
  },
  {
   "cell_type": "code",
   "execution_count": 26,
   "metadata": {
    "collapsed": false
   },
   "outputs": [
    {
     "data": {
      "text/plain": [
       "Index(['Country', 'Populacja', 'Powierzchnia'], dtype='object')"
      ]
     },
     "execution_count": 26,
     "metadata": {},
     "output_type": "execute_result"
    }
   ],
   "source": [
    "df.columns"
   ]
  },
  {
   "cell_type": "code",
   "execution_count": 27,
   "metadata": {
    "collapsed": false
   },
   "outputs": [
    {
     "data": {
      "text/plain": [
       "RangeIndex(start=0, stop=3, step=1)"
      ]
     },
     "execution_count": 27,
     "metadata": {},
     "output_type": "execute_result"
    }
   ],
   "source": [
    "df.index"
   ]
  },
  {
   "cell_type": "code",
   "execution_count": 28,
   "metadata": {
    "collapsed": true
   },
   "outputs": [],
   "source": [
    "df.index = ['KZ', 'PL', 'RU']"
   ]
  },
  {
   "cell_type": "code",
   "execution_count": 29,
   "metadata": {
    "collapsed": true
   },
   "outputs": [],
   "source": [
    "df.index.name = 'Country Code'"
   ]
  },
  {
   "cell_type": "code",
   "execution_count": 30,
   "metadata": {
    "collapsed": false
   },
   "outputs": [
    {
     "data": {
      "text/html": [
       "<div>\n",
       "<table border=\"1\" class=\"dataframe\">\n",
       "  <thead>\n",
       "    <tr style=\"text-align: right;\">\n",
       "      <th></th>\n",
       "      <th>Country</th>\n",
       "      <th>Populacja</th>\n",
       "      <th>Powierzchnia</th>\n",
       "    </tr>\n",
       "    <tr>\n",
       "      <th>Country Code</th>\n",
       "      <th></th>\n",
       "      <th></th>\n",
       "      <th></th>\n",
       "    </tr>\n",
       "  </thead>\n",
       "  <tbody>\n",
       "    <tr>\n",
       "      <th>KZ</th>\n",
       "      <td>Kazachstan</td>\n",
       "      <td>40.2</td>\n",
       "      <td>2724038</td>\n",
       "    </tr>\n",
       "    <tr>\n",
       "      <th>PL</th>\n",
       "      <td>Polska</td>\n",
       "      <td>38.5</td>\n",
       "      <td>380000</td>\n",
       "    </tr>\n",
       "    <tr>\n",
       "      <th>RU</th>\n",
       "      <td>Rosja</td>\n",
       "      <td>130.7</td>\n",
       "      <td>17000000</td>\n",
       "    </tr>\n",
       "  </tbody>\n",
       "</table>\n",
       "</div>"
      ],
      "text/plain": [
       "                 Country  Populacja  Powierzchnia\n",
       "Country Code                                     \n",
       "KZ            Kazachstan       40.2       2724038\n",
       "PL                Polska       38.5        380000\n",
       "RU                 Rosja      130.7      17000000"
      ]
     },
     "execution_count": 30,
     "metadata": {},
     "output_type": "execute_result"
    }
   ],
   "source": [
    "df"
   ]
  },
  {
   "cell_type": "code",
   "execution_count": 31,
   "metadata": {
    "collapsed": false
   },
   "outputs": [
    {
     "data": {
      "text/plain": [
       "Country Code\n",
       "KZ    Kazachstan\n",
       "PL        Polska\n",
       "RU         Rosja\n",
       "Name: Country, dtype: object"
      ]
     },
     "execution_count": 31,
     "metadata": {},
     "output_type": "execute_result"
    }
   ],
   "source": [
    "df['Country']"
   ]
  },
  {
   "cell_type": "code",
   "execution_count": 32,
   "metadata": {
    "collapsed": false
   },
   "outputs": [
    {
     "data": {
      "text/plain": [
       "Country         Polska\n",
       "Populacja         38.5\n",
       "Powierzchnia    380000\n",
       "Name: PL, dtype: object"
      ]
     },
     "execution_count": 32,
     "metadata": {},
     "output_type": "execute_result"
    }
   ],
   "source": [
    "df.loc['PL']"
   ]
  },
  {
   "cell_type": "code",
   "execution_count": 33,
   "metadata": {
    "collapsed": false
   },
   "outputs": [
    {
     "data": {
      "text/plain": [
       "Country         Polska\n",
       "Populacja         38.5\n",
       "Powierzchnia    380000\n",
       "Name: PL, dtype: object"
      ]
     },
     "execution_count": 33,
     "metadata": {},
     "output_type": "execute_result"
    }
   ],
   "source": [
    "df.iloc[1]"
   ]
  },
  {
   "cell_type": "code",
   "execution_count": 34,
   "metadata": {
    "collapsed": false
   },
   "outputs": [
    {
     "data": {
      "text/plain": [
       "Country Code\n",
       "PL     38.5\n",
       "RU    130.7\n",
       "Name: Populacja, dtype: float64"
      ]
     },
     "execution_count": 34,
     "metadata": {},
     "output_type": "execute_result"
    }
   ],
   "source": [
    "df.loc[['PL','RU'], 'Populacja']"
   ]
  },
  {
   "cell_type": "code",
   "execution_count": 35,
   "metadata": {
    "collapsed": false
   },
   "outputs": [
    {
     "data": {
      "text/html": [
       "<div>\n",
       "<table border=\"1\" class=\"dataframe\">\n",
       "  <thead>\n",
       "    <tr style=\"text-align: right;\">\n",
       "      <th></th>\n",
       "      <th>Country</th>\n",
       "      <th>Populacja</th>\n",
       "      <th>Powierzchnia</th>\n",
       "    </tr>\n",
       "    <tr>\n",
       "      <th>Country Code</th>\n",
       "      <th></th>\n",
       "      <th></th>\n",
       "      <th></th>\n",
       "    </tr>\n",
       "  </thead>\n",
       "  <tbody>\n",
       "    <tr>\n",
       "      <th>PL</th>\n",
       "      <td>Polska</td>\n",
       "      <td>38.5</td>\n",
       "      <td>380000</td>\n",
       "    </tr>\n",
       "    <tr>\n",
       "      <th>RU</th>\n",
       "      <td>Rosja</td>\n",
       "      <td>130.7</td>\n",
       "      <td>17000000</td>\n",
       "    </tr>\n",
       "  </tbody>\n",
       "</table>\n",
       "</div>"
      ],
      "text/plain": [
       "             Country  Populacja  Powierzchnia\n",
       "Country Code                                 \n",
       "PL            Polska       38.5        380000\n",
       "RU             Rosja      130.7      17000000"
      ]
     },
     "execution_count": 35,
     "metadata": {},
     "output_type": "execute_result"
    }
   ],
   "source": [
    "df.loc['PL':'RU', :]"
   ]
  },
  {
   "cell_type": "code",
   "execution_count": 36,
   "metadata": {
    "collapsed": false
   },
   "outputs": [
    {
     "data": {
      "text/html": [
       "<div>\n",
       "<table border=\"1\" class=\"dataframe\">\n",
       "  <thead>\n",
       "    <tr style=\"text-align: right;\">\n",
       "      <th></th>\n",
       "      <th>Country</th>\n",
       "      <th>Powierzchnia</th>\n",
       "    </tr>\n",
       "    <tr>\n",
       "      <th>Country Code</th>\n",
       "      <th></th>\n",
       "      <th></th>\n",
       "    </tr>\n",
       "  </thead>\n",
       "  <tbody>\n",
       "    <tr>\n",
       "      <th>KZ</th>\n",
       "      <td>Kazachstan</td>\n",
       "      <td>2724038</td>\n",
       "    </tr>\n",
       "    <tr>\n",
       "      <th>RU</th>\n",
       "      <td>Rosja</td>\n",
       "      <td>17000000</td>\n",
       "    </tr>\n",
       "  </tbody>\n",
       "</table>\n",
       "</div>"
      ],
      "text/plain": [
       "                 Country  Powierzchnia\n",
       "Country Code                          \n",
       "KZ            Kazachstan       2724038\n",
       "RU                 Rosja      17000000"
      ]
     },
     "execution_count": 36,
     "metadata": {},
     "output_type": "execute_result"
    }
   ],
   "source": [
    "df[df.Populacja>40][['Country', 'Powierzchnia']]"
   ]
  },
  {
   "cell_type": "code",
   "execution_count": 37,
   "metadata": {
    "collapsed": false
   },
   "outputs": [
    {
     "data": {
      "text/html": [
       "<div>\n",
       "<table border=\"1\" class=\"dataframe\">\n",
       "  <thead>\n",
       "    <tr style=\"text-align: right;\">\n",
       "      <th></th>\n",
       "      <th>Country Code</th>\n",
       "      <th>Country</th>\n",
       "      <th>Populacja</th>\n",
       "      <th>Powierzchnia</th>\n",
       "    </tr>\n",
       "  </thead>\n",
       "  <tbody>\n",
       "    <tr>\n",
       "      <th>0</th>\n",
       "      <td>KZ</td>\n",
       "      <td>Kazachstan</td>\n",
       "      <td>40.2</td>\n",
       "      <td>2724038</td>\n",
       "    </tr>\n",
       "    <tr>\n",
       "      <th>1</th>\n",
       "      <td>PL</td>\n",
       "      <td>Polska</td>\n",
       "      <td>38.5</td>\n",
       "      <td>380000</td>\n",
       "    </tr>\n",
       "    <tr>\n",
       "      <th>2</th>\n",
       "      <td>RU</td>\n",
       "      <td>Rosja</td>\n",
       "      <td>130.7</td>\n",
       "      <td>17000000</td>\n",
       "    </tr>\n",
       "  </tbody>\n",
       "</table>\n",
       "</div>"
      ],
      "text/plain": [
       "  Country Code     Country  Populacja  Powierzchnia\n",
       "0           KZ  Kazachstan       40.2       2724038\n",
       "1           PL      Polska       38.5        380000\n",
       "2           RU       Rosja      130.7      17000000"
      ]
     },
     "execution_count": 37,
     "metadata": {},
     "output_type": "execute_result"
    }
   ],
   "source": [
    "df.reset_index()"
   ]
  },
  {
   "cell_type": "code",
   "execution_count": 38,
   "metadata": {
    "collapsed": false
   },
   "outputs": [],
   "source": [
    "df['Zageszczenie'] = df['Populacja']/df['Powierzchnia']*1000000"
   ]
  },
  {
   "cell_type": "code",
   "execution_count": 39,
   "metadata": {
    "collapsed": false
   },
   "outputs": [
    {
     "data": {
      "text/html": [
       "<div>\n",
       "<table border=\"1\" class=\"dataframe\">\n",
       "  <thead>\n",
       "    <tr style=\"text-align: right;\">\n",
       "      <th></th>\n",
       "      <th>Country</th>\n",
       "      <th>Populacja</th>\n",
       "      <th>Powierzchnia</th>\n",
       "      <th>Zageszczenie</th>\n",
       "    </tr>\n",
       "    <tr>\n",
       "      <th>Country Code</th>\n",
       "      <th></th>\n",
       "      <th></th>\n",
       "      <th></th>\n",
       "      <th></th>\n",
       "    </tr>\n",
       "  </thead>\n",
       "  <tbody>\n",
       "    <tr>\n",
       "      <th>KZ</th>\n",
       "      <td>Kazachstan</td>\n",
       "      <td>40.2</td>\n",
       "      <td>2724038</td>\n",
       "      <td>14.757503</td>\n",
       "    </tr>\n",
       "    <tr>\n",
       "      <th>PL</th>\n",
       "      <td>Polska</td>\n",
       "      <td>38.5</td>\n",
       "      <td>380000</td>\n",
       "      <td>101.315789</td>\n",
       "    </tr>\n",
       "    <tr>\n",
       "      <th>RU</th>\n",
       "      <td>Rosja</td>\n",
       "      <td>130.7</td>\n",
       "      <td>17000000</td>\n",
       "      <td>7.688235</td>\n",
       "    </tr>\n",
       "  </tbody>\n",
       "</table>\n",
       "</div>"
      ],
      "text/plain": [
       "                 Country  Populacja  Powierzchnia  Zageszczenie\n",
       "Country Code                                                   \n",
       "KZ            Kazachstan       40.2       2724038     14.757503\n",
       "PL                Polska       38.5        380000    101.315789\n",
       "RU                 Rosja      130.7      17000000      7.688235"
      ]
     },
     "execution_count": 39,
     "metadata": {},
     "output_type": "execute_result"
    }
   ],
   "source": [
    "df"
   ]
  },
  {
   "cell_type": "code",
   "execution_count": 40,
   "metadata": {
    "collapsed": false
   },
   "outputs": [
    {
     "data": {
      "text/html": [
       "<div>\n",
       "<table border=\"1\" class=\"dataframe\">\n",
       "  <thead>\n",
       "    <tr style=\"text-align: right;\">\n",
       "      <th></th>\n",
       "      <th>Country</th>\n",
       "      <th>Populacja</th>\n",
       "      <th>Powierzchnia</th>\n",
       "    </tr>\n",
       "    <tr>\n",
       "      <th>Country Code</th>\n",
       "      <th></th>\n",
       "      <th></th>\n",
       "      <th></th>\n",
       "    </tr>\n",
       "  </thead>\n",
       "  <tbody>\n",
       "    <tr>\n",
       "      <th>KZ</th>\n",
       "      <td>Kazachstan</td>\n",
       "      <td>40.2</td>\n",
       "      <td>2724038</td>\n",
       "    </tr>\n",
       "    <tr>\n",
       "      <th>PL</th>\n",
       "      <td>Polska</td>\n",
       "      <td>38.5</td>\n",
       "      <td>380000</td>\n",
       "    </tr>\n",
       "    <tr>\n",
       "      <th>RU</th>\n",
       "      <td>Rosja</td>\n",
       "      <td>130.7</td>\n",
       "      <td>17000000</td>\n",
       "    </tr>\n",
       "  </tbody>\n",
       "</table>\n",
       "</div>"
      ],
      "text/plain": [
       "                 Country  Populacja  Powierzchnia\n",
       "Country Code                                     \n",
       "KZ            Kazachstan       40.2       2724038\n",
       "PL                Polska       38.5        380000\n",
       "RU                 Rosja      130.7      17000000"
      ]
     },
     "execution_count": 40,
     "metadata": {},
     "output_type": "execute_result"
    }
   ],
   "source": [
    "df.drop(['Zageszczenie'], axis='columns')"
   ]
  },
  {
   "cell_type": "code",
   "execution_count": 41,
   "metadata": {
    "collapsed": true
   },
   "outputs": [],
   "source": [
    "df = df.rename(columns={'Populacja':'Population', 'Powierzchnia':'Squere'})"
   ]
  },
  {
   "cell_type": "code",
   "execution_count": 42,
   "metadata": {
    "collapsed": false
   },
   "outputs": [
    {
     "data": {
      "text/html": [
       "<div>\n",
       "<table border=\"1\" class=\"dataframe\">\n",
       "  <thead>\n",
       "    <tr style=\"text-align: right;\">\n",
       "      <th></th>\n",
       "      <th>Country</th>\n",
       "      <th>Population</th>\n",
       "      <th>Squere</th>\n",
       "      <th>Zageszczenie</th>\n",
       "    </tr>\n",
       "    <tr>\n",
       "      <th>Country Code</th>\n",
       "      <th></th>\n",
       "      <th></th>\n",
       "      <th></th>\n",
       "      <th></th>\n",
       "    </tr>\n",
       "  </thead>\n",
       "  <tbody>\n",
       "    <tr>\n",
       "      <th>KZ</th>\n",
       "      <td>Kazachstan</td>\n",
       "      <td>40.2</td>\n",
       "      <td>2724038</td>\n",
       "      <td>14.757503</td>\n",
       "    </tr>\n",
       "    <tr>\n",
       "      <th>PL</th>\n",
       "      <td>Polska</td>\n",
       "      <td>38.5</td>\n",
       "      <td>380000</td>\n",
       "      <td>101.315789</td>\n",
       "    </tr>\n",
       "    <tr>\n",
       "      <th>RU</th>\n",
       "      <td>Rosja</td>\n",
       "      <td>130.7</td>\n",
       "      <td>17000000</td>\n",
       "      <td>7.688235</td>\n",
       "    </tr>\n",
       "  </tbody>\n",
       "</table>\n",
       "</div>"
      ],
      "text/plain": [
       "                 Country  Population    Squere  Zageszczenie\n",
       "Country Code                                                \n",
       "KZ            Kazachstan        40.2   2724038     14.757503\n",
       "PL                Polska        38.5    380000    101.315789\n",
       "RU                 Rosja       130.7  17000000      7.688235"
      ]
     },
     "execution_count": 42,
     "metadata": {},
     "output_type": "execute_result"
    }
   ],
   "source": [
    "df"
   ]
  },
  {
   "cell_type": "code",
   "execution_count": 43,
   "metadata": {
    "collapsed": false
   },
   "outputs": [],
   "source": [
    "df['Zageszczenie'] = df['Population']/df['Squere']*1000000"
   ]
  },
  {
   "cell_type": "code",
   "execution_count": 44,
   "metadata": {
    "collapsed": false
   },
   "outputs": [
    {
     "data": {
      "text/html": [
       "<div>\n",
       "<table border=\"1\" class=\"dataframe\">\n",
       "  <thead>\n",
       "    <tr style=\"text-align: right;\">\n",
       "      <th></th>\n",
       "      <th>Country</th>\n",
       "      <th>Population</th>\n",
       "      <th>Squere</th>\n",
       "      <th>Zageszczenie</th>\n",
       "    </tr>\n",
       "    <tr>\n",
       "      <th>Country Code</th>\n",
       "      <th></th>\n",
       "      <th></th>\n",
       "      <th></th>\n",
       "      <th></th>\n",
       "    </tr>\n",
       "  </thead>\n",
       "  <tbody>\n",
       "    <tr>\n",
       "      <th>KZ</th>\n",
       "      <td>Kazachstan</td>\n",
       "      <td>40.2</td>\n",
       "      <td>2724038</td>\n",
       "      <td>14.757503</td>\n",
       "    </tr>\n",
       "    <tr>\n",
       "      <th>PL</th>\n",
       "      <td>Polska</td>\n",
       "      <td>38.5</td>\n",
       "      <td>380000</td>\n",
       "      <td>101.315789</td>\n",
       "    </tr>\n",
       "    <tr>\n",
       "      <th>RU</th>\n",
       "      <td>Rosja</td>\n",
       "      <td>130.7</td>\n",
       "      <td>17000000</td>\n",
       "      <td>7.688235</td>\n",
       "    </tr>\n",
       "  </tbody>\n",
       "</table>\n",
       "</div>"
      ],
      "text/plain": [
       "                 Country  Population    Squere  Zageszczenie\n",
       "Country Code                                                \n",
       "KZ            Kazachstan        40.2   2724038     14.757503\n",
       "PL                Polska        38.5    380000    101.315789\n",
       "RU                 Rosja       130.7  17000000      7.688235"
      ]
     },
     "execution_count": 44,
     "metadata": {},
     "output_type": "execute_result"
    }
   ],
   "source": [
    "df"
   ]
  },
  {
   "cell_type": "code",
   "execution_count": 45,
   "metadata": {
    "collapsed": true
   },
   "outputs": [],
   "source": [
    "del df['Zageszczenie']"
   ]
  },
  {
   "cell_type": "code",
   "execution_count": 46,
   "metadata": {
    "collapsed": false
   },
   "outputs": [
    {
     "data": {
      "text/html": [
       "<div>\n",
       "<table border=\"1\" class=\"dataframe\">\n",
       "  <thead>\n",
       "    <tr style=\"text-align: right;\">\n",
       "      <th></th>\n",
       "      <th>Country</th>\n",
       "      <th>Population</th>\n",
       "      <th>Squere</th>\n",
       "    </tr>\n",
       "    <tr>\n",
       "      <th>Country Code</th>\n",
       "      <th></th>\n",
       "      <th></th>\n",
       "      <th></th>\n",
       "    </tr>\n",
       "  </thead>\n",
       "  <tbody>\n",
       "    <tr>\n",
       "      <th>KZ</th>\n",
       "      <td>Kazachstan</td>\n",
       "      <td>40.2</td>\n",
       "      <td>2724038</td>\n",
       "    </tr>\n",
       "    <tr>\n",
       "      <th>PL</th>\n",
       "      <td>Polska</td>\n",
       "      <td>38.5</td>\n",
       "      <td>380000</td>\n",
       "    </tr>\n",
       "    <tr>\n",
       "      <th>RU</th>\n",
       "      <td>Rosja</td>\n",
       "      <td>130.7</td>\n",
       "      <td>17000000</td>\n",
       "    </tr>\n",
       "  </tbody>\n",
       "</table>\n",
       "</div>"
      ],
      "text/plain": [
       "                 Country  Population    Squere\n",
       "Country Code                                  \n",
       "KZ            Kazachstan        40.2   2724038\n",
       "PL                Polska        38.5    380000\n",
       "RU                 Rosja       130.7  17000000"
      ]
     },
     "execution_count": 46,
     "metadata": {},
     "output_type": "execute_result"
    }
   ],
   "source": [
    "df"
   ]
  },
  {
   "cell_type": "code",
   "execution_count": 47,
   "metadata": {
    "collapsed": false
   },
   "outputs": [],
   "source": [
    "df.to_csv('CountryCode.csv')"
   ]
  },
  {
   "cell_type": "code",
   "execution_count": 48,
   "metadata": {
    "collapsed": true
   },
   "outputs": [],
   "source": [
    "df1 = pd.read_csv('CountryCode.csv', sep=',')"
   ]
  },
  {
   "cell_type": "code",
   "execution_count": 49,
   "metadata": {
    "collapsed": false
   },
   "outputs": [
    {
     "data": {
      "text/html": [
       "<div>\n",
       "<table border=\"1\" class=\"dataframe\">\n",
       "  <thead>\n",
       "    <tr style=\"text-align: right;\">\n",
       "      <th></th>\n",
       "      <th>Country Code</th>\n",
       "      <th>Country</th>\n",
       "      <th>Population</th>\n",
       "      <th>Squere</th>\n",
       "    </tr>\n",
       "  </thead>\n",
       "  <tbody>\n",
       "    <tr>\n",
       "      <th>0</th>\n",
       "      <td>KZ</td>\n",
       "      <td>Kazachstan</td>\n",
       "      <td>40.2</td>\n",
       "      <td>2724038</td>\n",
       "    </tr>\n",
       "    <tr>\n",
       "      <th>1</th>\n",
       "      <td>PL</td>\n",
       "      <td>Polska</td>\n",
       "      <td>38.5</td>\n",
       "      <td>380000</td>\n",
       "    </tr>\n",
       "    <tr>\n",
       "      <th>2</th>\n",
       "      <td>RU</td>\n",
       "      <td>Rosja</td>\n",
       "      <td>130.7</td>\n",
       "      <td>17000000</td>\n",
       "    </tr>\n",
       "  </tbody>\n",
       "</table>\n",
       "</div>"
      ],
      "text/plain": [
       "  Country Code     Country  Population    Squere\n",
       "0           KZ  Kazachstan        40.2   2724038\n",
       "1           PL      Polska        38.5    380000\n",
       "2           RU       Rosja       130.7  17000000"
      ]
     },
     "execution_count": 49,
     "metadata": {},
     "output_type": "execute_result"
    }
   ],
   "source": [
    "df1"
   ]
  },
  {
   "cell_type": "code",
   "execution_count": 50,
   "metadata": {
    "collapsed": false
   },
   "outputs": [
    {
     "name": "stdout",
     "output_type": "stream",
     "text": [
      "   PassengerID                                           Name PClass    Age  \\\n",
      "0            1                   Allen, Miss Elisabeth Walton    1st  29.00   \n",
      "1            2                    Allison, Miss Helen Loraine    1st   2.00   \n",
      "2            3            Allison, Mr Hudson Joshua Creighton    1st  30.00   \n",
      "3            4  Allison, Mrs Hudson JC (Bessie Waldo Daniels)    1st  25.00   \n",
      "4            5                  Allison, Master Hudson Trevor    1st   0.92   \n",
      "\n",
      "      Sex  Survived  SexCode  \n",
      "0  female         1        1  \n",
      "1  female         0        1  \n",
      "2    male         0        0  \n",
      "3  female         0        1  \n",
      "4    male         1        0  \n"
     ]
    }
   ],
   "source": [
    "titanic_df = pd.read_csv('titanic.csv')\n",
    "print(titanic_df.head())"
   ]
  },
  {
   "cell_type": "code",
   "execution_count": 51,
   "metadata": {
    "collapsed": false
   },
   "outputs": [
    {
     "name": "stdout",
     "output_type": "stream",
     "text": [
      "Sex     Survived\n",
      "female  0           154\n",
      "        1           308\n",
      "male    0           709\n",
      "        1           142\n",
      "Name: PassengerID, dtype: int64\n"
     ]
    }
   ],
   "source": [
    "print(titanic_df.groupby(['Sex', 'Survived'])['PassengerID'].count())"
   ]
  },
  {
   "cell_type": "code",
   "execution_count": 52,
   "metadata": {
    "collapsed": false
   },
   "outputs": [
    {
     "name": "stdout",
     "output_type": "stream",
     "text": [
      "PClass  Survived\n",
      "*       0             1\n",
      "1st     0           129\n",
      "        1           193\n",
      "2nd     0           160\n",
      "        1           119\n",
      "3rd     0           573\n",
      "        1           138\n",
      "Name: PassengerID, dtype: int64\n"
     ]
    }
   ],
   "source": [
    "print(titanic_df.groupby(['PClass', 'Survived'])['PassengerID'].count())"
   ]
  },
  {
   "cell_type": "code",
   "execution_count": 53,
   "metadata": {
    "collapsed": true
   },
   "outputs": [],
   "source": [
    "pvt = titanic_df.pivot_table(index=['Sex'], columns=['PClass'], values='Name', aggfunc='count')"
   ]
  },
  {
   "cell_type": "code",
   "execution_count": 54,
   "metadata": {
    "collapsed": false
   },
   "outputs": [
    {
     "data": {
      "text/html": [
       "<div>\n",
       "<table border=\"1\" class=\"dataframe\">\n",
       "  <thead>\n",
       "    <tr style=\"text-align: right;\">\n",
       "      <th>PClass</th>\n",
       "      <th>*</th>\n",
       "      <th>1st</th>\n",
       "      <th>2nd</th>\n",
       "      <th>3rd</th>\n",
       "    </tr>\n",
       "    <tr>\n",
       "      <th>Sex</th>\n",
       "      <th></th>\n",
       "      <th></th>\n",
       "      <th></th>\n",
       "      <th></th>\n",
       "    </tr>\n",
       "  </thead>\n",
       "  <tbody>\n",
       "    <tr>\n",
       "      <th>female</th>\n",
       "      <td>NaN</td>\n",
       "      <td>143.0</td>\n",
       "      <td>107.0</td>\n",
       "      <td>212.0</td>\n",
       "    </tr>\n",
       "    <tr>\n",
       "      <th>male</th>\n",
       "      <td>1.0</td>\n",
       "      <td>179.0</td>\n",
       "      <td>172.0</td>\n",
       "      <td>499.0</td>\n",
       "    </tr>\n",
       "  </tbody>\n",
       "</table>\n",
       "</div>"
      ],
      "text/plain": [
       "PClass    *    1st    2nd    3rd\n",
       "Sex                             \n",
       "female  NaN  143.0  107.0  212.0\n",
       "male    1.0  179.0  172.0  499.0"
      ]
     },
     "execution_count": 54,
     "metadata": {},
     "output_type": "execute_result"
    }
   ],
   "source": [
    "pvt"
   ]
  },
  {
   "cell_type": "code",
   "execution_count": 55,
   "metadata": {
    "collapsed": false
   },
   "outputs": [
    {
     "name": "stdout",
     "output_type": "stream",
     "text": [
      "PClass\n",
      "1st    143.0\n",
      "2nd    107.0\n",
      "3rd    212.0\n",
      "Name: female, dtype: float64\n"
     ]
    }
   ],
   "source": [
    "print(pvt.loc['female',['1st', '2nd','3rd']])"
   ]
  },
  {
   "cell_type": "code",
   "execution_count": 60,
   "metadata": {
    "collapsed": false
   },
   "outputs": [],
   "source": [
    "df3 = pd.read_csv('apple.csv', index_col='Date', parse_dates=True)"
   ]
  },
  {
   "cell_type": "code",
   "execution_count": 62,
   "metadata": {
    "collapsed": false
   },
   "outputs": [],
   "source": [
    "df3 = df3.sort_index()"
   ]
  },
  {
   "cell_type": "code",
   "execution_count": 64,
   "metadata": {
    "collapsed": false
   },
   "outputs": [
    {
     "name": "stdout",
     "output_type": "stream",
     "text": [
      "<class 'pandas.core.frame.DataFrame'>\n",
      "DatetimeIndex: 1258 entries, 2012-02-23 to 2017-02-22\n",
      "Data columns (total 6 columns):\n",
      "Open         1258 non-null float64\n",
      "High         1258 non-null float64\n",
      "Low          1258 non-null float64\n",
      "Close        1258 non-null float64\n",
      "Volume       1258 non-null int64\n",
      "Adj Close    1258 non-null float64\n",
      "dtypes: float64(5), int64(1)\n",
      "memory usage: 68.8 KB\n",
      "None\n"
     ]
    }
   ],
   "source": [
    "print(df3.info())"
   ]
  },
  {
   "cell_type": "code",
   "execution_count": 65,
   "metadata": {
    "collapsed": false
   },
   "outputs": [
    {
     "data": {
      "text/html": [
       "<div>\n",
       "<table border=\"1\" class=\"dataframe\">\n",
       "  <thead>\n",
       "    <tr style=\"text-align: right;\">\n",
       "      <th></th>\n",
       "      <th>Open</th>\n",
       "      <th>High</th>\n",
       "      <th>Low</th>\n",
       "      <th>Close</th>\n",
       "      <th>Volume</th>\n",
       "      <th>Adj Close</th>\n",
       "    </tr>\n",
       "    <tr>\n",
       "      <th>Date</th>\n",
       "      <th></th>\n",
       "      <th></th>\n",
       "      <th></th>\n",
       "      <th></th>\n",
       "      <th></th>\n",
       "      <th></th>\n",
       "    </tr>\n",
       "  </thead>\n",
       "  <tbody>\n",
       "    <tr>\n",
       "      <th>2012-02-23</th>\n",
       "      <td>515.079987</td>\n",
       "      <td>517.830009</td>\n",
       "      <td>509.499992</td>\n",
       "      <td>516.389977</td>\n",
       "      <td>142006900</td>\n",
       "      <td>66.903253</td>\n",
       "    </tr>\n",
       "    <tr>\n",
       "      <th>2012-02-24</th>\n",
       "      <td>519.669998</td>\n",
       "      <td>522.899979</td>\n",
       "      <td>518.640015</td>\n",
       "      <td>522.409981</td>\n",
       "      <td>103768000</td>\n",
       "      <td>67.683203</td>\n",
       "    </tr>\n",
       "    <tr>\n",
       "      <th>2012-02-27</th>\n",
       "      <td>521.309982</td>\n",
       "      <td>528.500000</td>\n",
       "      <td>516.280014</td>\n",
       "      <td>525.760017</td>\n",
       "      <td>136895500</td>\n",
       "      <td>68.117232</td>\n",
       "    </tr>\n",
       "    <tr>\n",
       "      <th>2012-02-28</th>\n",
       "      <td>527.960014</td>\n",
       "      <td>535.410011</td>\n",
       "      <td>525.850006</td>\n",
       "      <td>535.410011</td>\n",
       "      <td>150096800</td>\n",
       "      <td>69.367481</td>\n",
       "    </tr>\n",
       "    <tr>\n",
       "      <th>2012-02-29</th>\n",
       "      <td>541.560005</td>\n",
       "      <td>547.610023</td>\n",
       "      <td>535.700005</td>\n",
       "      <td>542.440025</td>\n",
       "      <td>238002800</td>\n",
       "      <td>70.278286</td>\n",
       "    </tr>\n",
       "    <tr>\n",
       "      <th>2012-03-01</th>\n",
       "      <td>548.169983</td>\n",
       "      <td>548.209984</td>\n",
       "      <td>538.769981</td>\n",
       "      <td>544.469978</td>\n",
       "      <td>170817500</td>\n",
       "      <td>70.541286</td>\n",
       "    </tr>\n",
       "    <tr>\n",
       "      <th>2012-03-02</th>\n",
       "      <td>544.240013</td>\n",
       "      <td>546.800018</td>\n",
       "      <td>542.519974</td>\n",
       "      <td>545.180008</td>\n",
       "      <td>107928100</td>\n",
       "      <td>70.633277</td>\n",
       "    </tr>\n",
       "    <tr>\n",
       "      <th>2012-03-05</th>\n",
       "      <td>545.420013</td>\n",
       "      <td>547.479980</td>\n",
       "      <td>526.000023</td>\n",
       "      <td>533.160027</td>\n",
       "      <td>202281100</td>\n",
       "      <td>69.075974</td>\n",
       "    </tr>\n",
       "    <tr>\n",
       "      <th>2012-03-06</th>\n",
       "      <td>523.659996</td>\n",
       "      <td>533.690025</td>\n",
       "      <td>516.219986</td>\n",
       "      <td>530.259987</td>\n",
       "      <td>202559700</td>\n",
       "      <td>68.700246</td>\n",
       "    </tr>\n",
       "    <tr>\n",
       "      <th>2012-03-07</th>\n",
       "      <td>536.800003</td>\n",
       "      <td>537.779999</td>\n",
       "      <td>523.299988</td>\n",
       "      <td>530.690010</td>\n",
       "      <td>199630200</td>\n",
       "      <td>68.755959</td>\n",
       "    </tr>\n",
       "    <tr>\n",
       "      <th>2012-03-08</th>\n",
       "      <td>534.689995</td>\n",
       "      <td>542.989998</td>\n",
       "      <td>532.120003</td>\n",
       "      <td>541.989975</td>\n",
       "      <td>129114300</td>\n",
       "      <td>70.219978</td>\n",
       "    </tr>\n",
       "    <tr>\n",
       "      <th>2012-03-09</th>\n",
       "      <td>544.209999</td>\n",
       "      <td>547.740013</td>\n",
       "      <td>543.110001</td>\n",
       "      <td>545.170021</td>\n",
       "      <td>104729800</td>\n",
       "      <td>70.631983</td>\n",
       "    </tr>\n",
       "    <tr>\n",
       "      <th>2012-03-12</th>\n",
       "      <td>548.979988</td>\n",
       "      <td>551.999977</td>\n",
       "      <td>547.000023</td>\n",
       "      <td>551.999977</td>\n",
       "      <td>101820600</td>\n",
       "      <td>71.516869</td>\n",
       "    </tr>\n",
       "    <tr>\n",
       "      <th>2012-03-13</th>\n",
       "      <td>557.540024</td>\n",
       "      <td>568.180000</td>\n",
       "      <td>555.750023</td>\n",
       "      <td>568.099998</td>\n",
       "      <td>172713800</td>\n",
       "      <td>73.602781</td>\n",
       "    </tr>\n",
       "    <tr>\n",
       "      <th>2012-03-14</th>\n",
       "      <td>578.050026</td>\n",
       "      <td>594.719994</td>\n",
       "      <td>575.399979</td>\n",
       "      <td>589.580009</td>\n",
       "      <td>354711000</td>\n",
       "      <td>76.385721</td>\n",
       "    </tr>\n",
       "    <tr>\n",
       "      <th>2012-03-15</th>\n",
       "      <td>599.609985</td>\n",
       "      <td>600.009995</td>\n",
       "      <td>578.550011</td>\n",
       "      <td>585.559998</td>\n",
       "      <td>289929500</td>\n",
       "      <td>75.864890</td>\n",
       "    </tr>\n",
       "    <tr>\n",
       "      <th>2012-03-16</th>\n",
       "      <td>584.719978</td>\n",
       "      <td>589.199974</td>\n",
       "      <td>577.999985</td>\n",
       "      <td>585.569984</td>\n",
       "      <td>206371900</td>\n",
       "      <td>75.866184</td>\n",
       "    </tr>\n",
       "    <tr>\n",
       "      <th>2012-03-19</th>\n",
       "      <td>598.370010</td>\n",
       "      <td>601.769981</td>\n",
       "      <td>589.050011</td>\n",
       "      <td>601.100006</td>\n",
       "      <td>225309000</td>\n",
       "      <td>77.878247</td>\n",
       "    </tr>\n",
       "    <tr>\n",
       "      <th>2012-03-20</th>\n",
       "      <td>599.510010</td>\n",
       "      <td>606.899979</td>\n",
       "      <td>591.480026</td>\n",
       "      <td>605.959984</td>\n",
       "      <td>204165500</td>\n",
       "      <td>78.507903</td>\n",
       "    </tr>\n",
       "    <tr>\n",
       "      <th>2012-03-21</th>\n",
       "      <td>602.739990</td>\n",
       "      <td>609.650002</td>\n",
       "      <td>601.410027</td>\n",
       "      <td>602.499985</td>\n",
       "      <td>161010500</td>\n",
       "      <td>78.059627</td>\n",
       "    </tr>\n",
       "    <tr>\n",
       "      <th>2012-03-22</th>\n",
       "      <td>597.779984</td>\n",
       "      <td>604.499977</td>\n",
       "      <td>595.529999</td>\n",
       "      <td>599.340019</td>\n",
       "      <td>155967700</td>\n",
       "      <td>77.650224</td>\n",
       "    </tr>\n",
       "    <tr>\n",
       "      <th>2012-03-23</th>\n",
       "      <td>600.490005</td>\n",
       "      <td>601.799995</td>\n",
       "      <td>594.399986</td>\n",
       "      <td>596.050011</td>\n",
       "      <td>107622200</td>\n",
       "      <td>77.223972</td>\n",
       "    </tr>\n",
       "    <tr>\n",
       "      <th>2012-03-26</th>\n",
       "      <td>599.790016</td>\n",
       "      <td>607.150024</td>\n",
       "      <td>595.259979</td>\n",
       "      <td>606.979980</td>\n",
       "      <td>148935500</td>\n",
       "      <td>78.640054</td>\n",
       "    </tr>\n",
       "    <tr>\n",
       "      <th>2012-03-27</th>\n",
       "      <td>606.180016</td>\n",
       "      <td>616.280006</td>\n",
       "      <td>606.060013</td>\n",
       "      <td>614.480019</td>\n",
       "      <td>151782400</td>\n",
       "      <td>79.611755</td>\n",
       "    </tr>\n",
       "    <tr>\n",
       "      <th>2012-03-28</th>\n",
       "      <td>618.379974</td>\n",
       "      <td>621.450005</td>\n",
       "      <td>610.309990</td>\n",
       "      <td>617.620010</td>\n",
       "      <td>163865100</td>\n",
       "      <td>80.018571</td>\n",
       "    </tr>\n",
       "    <tr>\n",
       "      <th>2012-03-29</th>\n",
       "      <td>612.780006</td>\n",
       "      <td>616.560013</td>\n",
       "      <td>607.230026</td>\n",
       "      <td>609.859993</td>\n",
       "      <td>152059600</td>\n",
       "      <td>79.013187</td>\n",
       "    </tr>\n",
       "    <tr>\n",
       "      <th>2012-03-30</th>\n",
       "      <td>608.769981</td>\n",
       "      <td>610.559982</td>\n",
       "      <td>597.939987</td>\n",
       "      <td>599.550011</td>\n",
       "      <td>182759500</td>\n",
       "      <td>77.677430</td>\n",
       "    </tr>\n",
       "    <tr>\n",
       "      <th>2012-04-02</th>\n",
       "      <td>601.830009</td>\n",
       "      <td>618.769997</td>\n",
       "      <td>600.379990</td>\n",
       "      <td>618.630020</td>\n",
       "      <td>149587900</td>\n",
       "      <td>80.149428</td>\n",
       "    </tr>\n",
       "    <tr>\n",
       "      <th>2012-04-03</th>\n",
       "      <td>627.300018</td>\n",
       "      <td>632.209984</td>\n",
       "      <td>622.510002</td>\n",
       "      <td>629.319984</td>\n",
       "      <td>208639900</td>\n",
       "      <td>81.534415</td>\n",
       "    </tr>\n",
       "    <tr>\n",
       "      <th>2012-04-04</th>\n",
       "      <td>624.349991</td>\n",
       "      <td>625.859985</td>\n",
       "      <td>617.000023</td>\n",
       "      <td>624.309990</td>\n",
       "      <td>143245200</td>\n",
       "      <td>80.885322</td>\n",
       "    </tr>\n",
       "    <tr>\n",
       "      <th>...</th>\n",
       "      <td>...</td>\n",
       "      <td>...</td>\n",
       "      <td>...</td>\n",
       "      <td>...</td>\n",
       "      <td>...</td>\n",
       "      <td>...</td>\n",
       "    </tr>\n",
       "    <tr>\n",
       "      <th>2017-01-10</th>\n",
       "      <td>118.769997</td>\n",
       "      <td>119.379997</td>\n",
       "      <td>118.300003</td>\n",
       "      <td>119.110001</td>\n",
       "      <td>24462100</td>\n",
       "      <td>118.595819</td>\n",
       "    </tr>\n",
       "    <tr>\n",
       "      <th>2017-01-11</th>\n",
       "      <td>118.739998</td>\n",
       "      <td>119.930000</td>\n",
       "      <td>118.599998</td>\n",
       "      <td>119.750000</td>\n",
       "      <td>27588600</td>\n",
       "      <td>119.233055</td>\n",
       "    </tr>\n",
       "    <tr>\n",
       "      <th>2017-01-12</th>\n",
       "      <td>118.900002</td>\n",
       "      <td>119.300003</td>\n",
       "      <td>118.209999</td>\n",
       "      <td>119.250000</td>\n",
       "      <td>27086200</td>\n",
       "      <td>118.735214</td>\n",
       "    </tr>\n",
       "    <tr>\n",
       "      <th>2017-01-13</th>\n",
       "      <td>119.110001</td>\n",
       "      <td>119.620003</td>\n",
       "      <td>118.809998</td>\n",
       "      <td>119.040001</td>\n",
       "      <td>26111900</td>\n",
       "      <td>118.526121</td>\n",
       "    </tr>\n",
       "    <tr>\n",
       "      <th>2017-01-17</th>\n",
       "      <td>118.339996</td>\n",
       "      <td>120.239998</td>\n",
       "      <td>118.220001</td>\n",
       "      <td>120.000000</td>\n",
       "      <td>34439800</td>\n",
       "      <td>119.481976</td>\n",
       "    </tr>\n",
       "    <tr>\n",
       "      <th>2017-01-18</th>\n",
       "      <td>120.000000</td>\n",
       "      <td>120.500000</td>\n",
       "      <td>119.709999</td>\n",
       "      <td>119.989998</td>\n",
       "      <td>23713000</td>\n",
       "      <td>119.472017</td>\n",
       "    </tr>\n",
       "    <tr>\n",
       "      <th>2017-01-19</th>\n",
       "      <td>119.400002</td>\n",
       "      <td>120.089996</td>\n",
       "      <td>119.370003</td>\n",
       "      <td>119.779999</td>\n",
       "      <td>25597300</td>\n",
       "      <td>119.262925</td>\n",
       "    </tr>\n",
       "    <tr>\n",
       "      <th>2017-01-20</th>\n",
       "      <td>120.449997</td>\n",
       "      <td>120.449997</td>\n",
       "      <td>119.730003</td>\n",
       "      <td>120.000000</td>\n",
       "      <td>32597900</td>\n",
       "      <td>119.481976</td>\n",
       "    </tr>\n",
       "    <tr>\n",
       "      <th>2017-01-23</th>\n",
       "      <td>120.000000</td>\n",
       "      <td>120.809998</td>\n",
       "      <td>119.769997</td>\n",
       "      <td>120.080002</td>\n",
       "      <td>22050200</td>\n",
       "      <td>119.561633</td>\n",
       "    </tr>\n",
       "    <tr>\n",
       "      <th>2017-01-24</th>\n",
       "      <td>119.550003</td>\n",
       "      <td>120.099998</td>\n",
       "      <td>119.500000</td>\n",
       "      <td>119.970001</td>\n",
       "      <td>23211000</td>\n",
       "      <td>119.452107</td>\n",
       "    </tr>\n",
       "    <tr>\n",
       "      <th>2017-01-25</th>\n",
       "      <td>120.419998</td>\n",
       "      <td>122.099998</td>\n",
       "      <td>120.279999</td>\n",
       "      <td>121.879997</td>\n",
       "      <td>32377600</td>\n",
       "      <td>121.353858</td>\n",
       "    </tr>\n",
       "    <tr>\n",
       "      <th>2017-01-26</th>\n",
       "      <td>121.669998</td>\n",
       "      <td>122.440002</td>\n",
       "      <td>121.599998</td>\n",
       "      <td>121.940002</td>\n",
       "      <td>26337600</td>\n",
       "      <td>121.413604</td>\n",
       "    </tr>\n",
       "    <tr>\n",
       "      <th>2017-01-27</th>\n",
       "      <td>122.139999</td>\n",
       "      <td>122.349998</td>\n",
       "      <td>121.599998</td>\n",
       "      <td>121.949997</td>\n",
       "      <td>20562900</td>\n",
       "      <td>121.423555</td>\n",
       "    </tr>\n",
       "    <tr>\n",
       "      <th>2017-01-30</th>\n",
       "      <td>120.930000</td>\n",
       "      <td>121.629997</td>\n",
       "      <td>120.660004</td>\n",
       "      <td>121.629997</td>\n",
       "      <td>30377500</td>\n",
       "      <td>121.104937</td>\n",
       "    </tr>\n",
       "    <tr>\n",
       "      <th>2017-01-31</th>\n",
       "      <td>121.150002</td>\n",
       "      <td>121.389999</td>\n",
       "      <td>120.620003</td>\n",
       "      <td>121.349998</td>\n",
       "      <td>49201000</td>\n",
       "      <td>120.826147</td>\n",
       "    </tr>\n",
       "    <tr>\n",
       "      <th>2017-02-01</th>\n",
       "      <td>127.029999</td>\n",
       "      <td>130.490005</td>\n",
       "      <td>127.010002</td>\n",
       "      <td>128.750000</td>\n",
       "      <td>111985000</td>\n",
       "      <td>128.194203</td>\n",
       "    </tr>\n",
       "    <tr>\n",
       "      <th>2017-02-02</th>\n",
       "      <td>127.980003</td>\n",
       "      <td>129.389999</td>\n",
       "      <td>127.779999</td>\n",
       "      <td>128.529999</td>\n",
       "      <td>33710400</td>\n",
       "      <td>127.975152</td>\n",
       "    </tr>\n",
       "    <tr>\n",
       "      <th>2017-02-03</th>\n",
       "      <td>128.309998</td>\n",
       "      <td>129.190002</td>\n",
       "      <td>128.160004</td>\n",
       "      <td>129.080002</td>\n",
       "      <td>24507300</td>\n",
       "      <td>128.522781</td>\n",
       "    </tr>\n",
       "    <tr>\n",
       "      <th>2017-02-06</th>\n",
       "      <td>129.130005</td>\n",
       "      <td>130.500000</td>\n",
       "      <td>128.899994</td>\n",
       "      <td>130.289993</td>\n",
       "      <td>26845900</td>\n",
       "      <td>129.727549</td>\n",
       "    </tr>\n",
       "    <tr>\n",
       "      <th>2017-02-07</th>\n",
       "      <td>130.539993</td>\n",
       "      <td>132.089996</td>\n",
       "      <td>130.449997</td>\n",
       "      <td>131.529999</td>\n",
       "      <td>38183800</td>\n",
       "      <td>130.962201</td>\n",
       "    </tr>\n",
       "    <tr>\n",
       "      <th>2017-02-08</th>\n",
       "      <td>131.350006</td>\n",
       "      <td>132.220001</td>\n",
       "      <td>131.220001</td>\n",
       "      <td>132.039993</td>\n",
       "      <td>23004100</td>\n",
       "      <td>131.469994</td>\n",
       "    </tr>\n",
       "    <tr>\n",
       "      <th>2017-02-09</th>\n",
       "      <td>131.649994</td>\n",
       "      <td>132.449997</td>\n",
       "      <td>131.119995</td>\n",
       "      <td>132.419998</td>\n",
       "      <td>28349900</td>\n",
       "      <td>132.419998</td>\n",
       "    </tr>\n",
       "    <tr>\n",
       "      <th>2017-02-10</th>\n",
       "      <td>132.460007</td>\n",
       "      <td>132.940002</td>\n",
       "      <td>132.050003</td>\n",
       "      <td>132.119995</td>\n",
       "      <td>20065500</td>\n",
       "      <td>132.119995</td>\n",
       "    </tr>\n",
       "    <tr>\n",
       "      <th>2017-02-13</th>\n",
       "      <td>133.080002</td>\n",
       "      <td>133.820007</td>\n",
       "      <td>132.750000</td>\n",
       "      <td>133.289993</td>\n",
       "      <td>23035400</td>\n",
       "      <td>133.289993</td>\n",
       "    </tr>\n",
       "    <tr>\n",
       "      <th>2017-02-14</th>\n",
       "      <td>133.470001</td>\n",
       "      <td>135.089996</td>\n",
       "      <td>133.250000</td>\n",
       "      <td>135.020004</td>\n",
       "      <td>32815500</td>\n",
       "      <td>135.020004</td>\n",
       "    </tr>\n",
       "    <tr>\n",
       "      <th>2017-02-15</th>\n",
       "      <td>135.520004</td>\n",
       "      <td>136.270004</td>\n",
       "      <td>134.619995</td>\n",
       "      <td>135.509995</td>\n",
       "      <td>35501600</td>\n",
       "      <td>135.509995</td>\n",
       "    </tr>\n",
       "    <tr>\n",
       "      <th>2017-02-16</th>\n",
       "      <td>135.669998</td>\n",
       "      <td>135.899994</td>\n",
       "      <td>134.839996</td>\n",
       "      <td>135.350006</td>\n",
       "      <td>22118000</td>\n",
       "      <td>135.350006</td>\n",
       "    </tr>\n",
       "    <tr>\n",
       "      <th>2017-02-17</th>\n",
       "      <td>135.100006</td>\n",
       "      <td>135.830002</td>\n",
       "      <td>135.100006</td>\n",
       "      <td>135.720001</td>\n",
       "      <td>22084500</td>\n",
       "      <td>135.720001</td>\n",
       "    </tr>\n",
       "    <tr>\n",
       "      <th>2017-02-21</th>\n",
       "      <td>136.229996</td>\n",
       "      <td>136.750000</td>\n",
       "      <td>135.979996</td>\n",
       "      <td>136.699997</td>\n",
       "      <td>24265100</td>\n",
       "      <td>136.699997</td>\n",
       "    </tr>\n",
       "    <tr>\n",
       "      <th>2017-02-22</th>\n",
       "      <td>136.429993</td>\n",
       "      <td>137.119995</td>\n",
       "      <td>136.110001</td>\n",
       "      <td>137.110001</td>\n",
       "      <td>20745300</td>\n",
       "      <td>137.110001</td>\n",
       "    </tr>\n",
       "  </tbody>\n",
       "</table>\n",
       "<p>1258 rows × 6 columns</p>\n",
       "</div>"
      ],
      "text/plain": [
       "                  Open        High         Low       Close     Volume  \\\n",
       "Date                                                                    \n",
       "2012-02-23  515.079987  517.830009  509.499992  516.389977  142006900   \n",
       "2012-02-24  519.669998  522.899979  518.640015  522.409981  103768000   \n",
       "2012-02-27  521.309982  528.500000  516.280014  525.760017  136895500   \n",
       "2012-02-28  527.960014  535.410011  525.850006  535.410011  150096800   \n",
       "2012-02-29  541.560005  547.610023  535.700005  542.440025  238002800   \n",
       "2012-03-01  548.169983  548.209984  538.769981  544.469978  170817500   \n",
       "2012-03-02  544.240013  546.800018  542.519974  545.180008  107928100   \n",
       "2012-03-05  545.420013  547.479980  526.000023  533.160027  202281100   \n",
       "2012-03-06  523.659996  533.690025  516.219986  530.259987  202559700   \n",
       "2012-03-07  536.800003  537.779999  523.299988  530.690010  199630200   \n",
       "2012-03-08  534.689995  542.989998  532.120003  541.989975  129114300   \n",
       "2012-03-09  544.209999  547.740013  543.110001  545.170021  104729800   \n",
       "2012-03-12  548.979988  551.999977  547.000023  551.999977  101820600   \n",
       "2012-03-13  557.540024  568.180000  555.750023  568.099998  172713800   \n",
       "2012-03-14  578.050026  594.719994  575.399979  589.580009  354711000   \n",
       "2012-03-15  599.609985  600.009995  578.550011  585.559998  289929500   \n",
       "2012-03-16  584.719978  589.199974  577.999985  585.569984  206371900   \n",
       "2012-03-19  598.370010  601.769981  589.050011  601.100006  225309000   \n",
       "2012-03-20  599.510010  606.899979  591.480026  605.959984  204165500   \n",
       "2012-03-21  602.739990  609.650002  601.410027  602.499985  161010500   \n",
       "2012-03-22  597.779984  604.499977  595.529999  599.340019  155967700   \n",
       "2012-03-23  600.490005  601.799995  594.399986  596.050011  107622200   \n",
       "2012-03-26  599.790016  607.150024  595.259979  606.979980  148935500   \n",
       "2012-03-27  606.180016  616.280006  606.060013  614.480019  151782400   \n",
       "2012-03-28  618.379974  621.450005  610.309990  617.620010  163865100   \n",
       "2012-03-29  612.780006  616.560013  607.230026  609.859993  152059600   \n",
       "2012-03-30  608.769981  610.559982  597.939987  599.550011  182759500   \n",
       "2012-04-02  601.830009  618.769997  600.379990  618.630020  149587900   \n",
       "2012-04-03  627.300018  632.209984  622.510002  629.319984  208639900   \n",
       "2012-04-04  624.349991  625.859985  617.000023  624.309990  143245200   \n",
       "...                ...         ...         ...         ...        ...   \n",
       "2017-01-10  118.769997  119.379997  118.300003  119.110001   24462100   \n",
       "2017-01-11  118.739998  119.930000  118.599998  119.750000   27588600   \n",
       "2017-01-12  118.900002  119.300003  118.209999  119.250000   27086200   \n",
       "2017-01-13  119.110001  119.620003  118.809998  119.040001   26111900   \n",
       "2017-01-17  118.339996  120.239998  118.220001  120.000000   34439800   \n",
       "2017-01-18  120.000000  120.500000  119.709999  119.989998   23713000   \n",
       "2017-01-19  119.400002  120.089996  119.370003  119.779999   25597300   \n",
       "2017-01-20  120.449997  120.449997  119.730003  120.000000   32597900   \n",
       "2017-01-23  120.000000  120.809998  119.769997  120.080002   22050200   \n",
       "2017-01-24  119.550003  120.099998  119.500000  119.970001   23211000   \n",
       "2017-01-25  120.419998  122.099998  120.279999  121.879997   32377600   \n",
       "2017-01-26  121.669998  122.440002  121.599998  121.940002   26337600   \n",
       "2017-01-27  122.139999  122.349998  121.599998  121.949997   20562900   \n",
       "2017-01-30  120.930000  121.629997  120.660004  121.629997   30377500   \n",
       "2017-01-31  121.150002  121.389999  120.620003  121.349998   49201000   \n",
       "2017-02-01  127.029999  130.490005  127.010002  128.750000  111985000   \n",
       "2017-02-02  127.980003  129.389999  127.779999  128.529999   33710400   \n",
       "2017-02-03  128.309998  129.190002  128.160004  129.080002   24507300   \n",
       "2017-02-06  129.130005  130.500000  128.899994  130.289993   26845900   \n",
       "2017-02-07  130.539993  132.089996  130.449997  131.529999   38183800   \n",
       "2017-02-08  131.350006  132.220001  131.220001  132.039993   23004100   \n",
       "2017-02-09  131.649994  132.449997  131.119995  132.419998   28349900   \n",
       "2017-02-10  132.460007  132.940002  132.050003  132.119995   20065500   \n",
       "2017-02-13  133.080002  133.820007  132.750000  133.289993   23035400   \n",
       "2017-02-14  133.470001  135.089996  133.250000  135.020004   32815500   \n",
       "2017-02-15  135.520004  136.270004  134.619995  135.509995   35501600   \n",
       "2017-02-16  135.669998  135.899994  134.839996  135.350006   22118000   \n",
       "2017-02-17  135.100006  135.830002  135.100006  135.720001   22084500   \n",
       "2017-02-21  136.229996  136.750000  135.979996  136.699997   24265100   \n",
       "2017-02-22  136.429993  137.119995  136.110001  137.110001   20745300   \n",
       "\n",
       "             Adj Close  \n",
       "Date                    \n",
       "2012-02-23   66.903253  \n",
       "2012-02-24   67.683203  \n",
       "2012-02-27   68.117232  \n",
       "2012-02-28   69.367481  \n",
       "2012-02-29   70.278286  \n",
       "2012-03-01   70.541286  \n",
       "2012-03-02   70.633277  \n",
       "2012-03-05   69.075974  \n",
       "2012-03-06   68.700246  \n",
       "2012-03-07   68.755959  \n",
       "2012-03-08   70.219978  \n",
       "2012-03-09   70.631983  \n",
       "2012-03-12   71.516869  \n",
       "2012-03-13   73.602781  \n",
       "2012-03-14   76.385721  \n",
       "2012-03-15   75.864890  \n",
       "2012-03-16   75.866184  \n",
       "2012-03-19   77.878247  \n",
       "2012-03-20   78.507903  \n",
       "2012-03-21   78.059627  \n",
       "2012-03-22   77.650224  \n",
       "2012-03-23   77.223972  \n",
       "2012-03-26   78.640054  \n",
       "2012-03-27   79.611755  \n",
       "2012-03-28   80.018571  \n",
       "2012-03-29   79.013187  \n",
       "2012-03-30   77.677430  \n",
       "2012-04-02   80.149428  \n",
       "2012-04-03   81.534415  \n",
       "2012-04-04   80.885322  \n",
       "...                ...  \n",
       "2017-01-10  118.595819  \n",
       "2017-01-11  119.233055  \n",
       "2017-01-12  118.735214  \n",
       "2017-01-13  118.526121  \n",
       "2017-01-17  119.481976  \n",
       "2017-01-18  119.472017  \n",
       "2017-01-19  119.262925  \n",
       "2017-01-20  119.481976  \n",
       "2017-01-23  119.561633  \n",
       "2017-01-24  119.452107  \n",
       "2017-01-25  121.353858  \n",
       "2017-01-26  121.413604  \n",
       "2017-01-27  121.423555  \n",
       "2017-01-30  121.104937  \n",
       "2017-01-31  120.826147  \n",
       "2017-02-01  128.194203  \n",
       "2017-02-02  127.975152  \n",
       "2017-02-03  128.522781  \n",
       "2017-02-06  129.727549  \n",
       "2017-02-07  130.962201  \n",
       "2017-02-08  131.469994  \n",
       "2017-02-09  132.419998  \n",
       "2017-02-10  132.119995  \n",
       "2017-02-13  133.289993  \n",
       "2017-02-14  135.020004  \n",
       "2017-02-15  135.509995  \n",
       "2017-02-16  135.350006  \n",
       "2017-02-17  135.720001  \n",
       "2017-02-21  136.699997  \n",
       "2017-02-22  137.110001  \n",
       "\n",
       "[1258 rows x 6 columns]"
      ]
     },
     "execution_count": 65,
     "metadata": {},
     "output_type": "execute_result"
    }
   ],
   "source": [
    "df3"
   ]
  },
  {
   "cell_type": "code",
   "execution_count": 66,
   "metadata": {
    "collapsed": false
   },
   "outputs": [
    {
     "data": {
      "text/plain": [
       "528.4820021999999"
      ]
     },
     "execution_count": 66,
     "metadata": {},
     "output_type": "execute_result"
    }
   ],
   "source": [
    "df3.loc['2012-Feb', 'Close'].mean()"
   ]
  },
  {
   "cell_type": "code",
   "execution_count": null,
   "metadata": {
    "collapsed": true
   },
   "outputs": [],
   "source": []
  }
 ],
 "metadata": {
  "kernelspec": {
   "display_name": "Python 3",
   "language": "python",
   "name": "python3"
  },
  "language_info": {
   "codemirror_mode": {
    "name": "ipython",
    "version": 3
   },
   "file_extension": ".py",
   "mimetype": "text/x-python",
   "name": "python",
   "nbconvert_exporter": "python",
   "pygments_lexer": "ipython3",
   "version": "3.6.6"
  }
 },
 "nbformat": 4,
 "nbformat_minor": 2
}
